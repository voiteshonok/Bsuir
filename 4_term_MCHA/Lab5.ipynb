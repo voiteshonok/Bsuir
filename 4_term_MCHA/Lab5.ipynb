{
 "cells": [
  {
   "cell_type": "code",
   "execution_count": 1,
   "metadata": {},
   "outputs": [],
   "source": [
    "import numpy as np\n",
    "import math"
   ]
  },
  {
   "cell_type": "code",
   "execution_count": 2,
   "metadata": {},
   "outputs": [],
   "source": [
    "C = np.array([\n",
    "    [0.2, 0, 0.2, 0, 0],\n",
    "    [0, 0.2, 0, 0.2, 0],\n",
    "    [0.2, 0, 0.2, 0, 0.2],\n",
    "    [0, 0.2, 0, 0.2, 0],\n",
    "    [0, 0, 0.2, 0, 0.2],\n",
    "])\n",
    "\n",
    "D = np.array([\n",
    "    [2.33, 0.81, 0.67, 0.92, -0.53],\n",
    "    [0.81, 2.33, 0.81, 0.67, 0.92],\n",
    "    [0.67, 0.81, 0.23, 0.81, 0.92],\n",
    "    [0.92, 0.67, 0.81, 2.33, -0.53],\n",
    "    [-0.53, 0.92, 0.92, -0.53, 2.33]\n",
    "])\n",
    "\n",
    "A = 3 * C + D"
   ]
  },
  {
   "cell_type": "code",
   "execution_count": 3,
   "metadata": {},
   "outputs": [],
   "source": [
    "def find_i_j(A):\n",
    "    i, j = 0, 1\n",
    "    for ii in range(0, len(A[0])):\n",
    "        for jj in range(ii+1, len(A[0])):\n",
    "            if A[ii][jj] > A[i][j]:\n",
    "                i, j = ii, jj\n",
    "    return i, j"
   ]
  },
  {
   "cell_type": "code",
   "execution_count": 4,
   "metadata": {},
   "outputs": [],
   "source": [
    "A = np.array([\n",
    "    [5, 1, 2],\n",
    "    [1, 4, 1],\n",
    "    [2, 1, 3]\n",
    "])"
   ]
  },
  {
   "cell_type": "code",
   "execution_count": 50,
   "metadata": {},
   "outputs": [],
   "source": [
    "A = np.array([\n",
    "    [2, 1],\n",
    "    [1, 3]\n",
    "])"
   ]
  },
  {
   "cell_type": "code",
   "execution_count": 7,
   "metadata": {},
   "outputs": [],
   "source": [
    "EPS = 1e-4"
   ]
  },
  {
   "cell_type": "code",
   "execution_count": 8,
   "metadata": {},
   "outputs": [
    {
     "name": "stdout",
     "output_type": "stream",
     "text": [
      "5\n"
     ]
    }
   ],
   "source": [
    "v = np.eye(A.shape[0])\n",
    "k = 0\n",
    "while abs(A[find_i_j(A)[0]][find_i_j(A)[1]])>EPS:\n",
    "    i, j = find_i_j(A)\n",
    "    phi = 1/2 * math.atan(2 * A[i][j] / (A[i][i]- A[j][j]))\n",
    "    H = np.eye(A.shape[0])\n",
    "    H[i][i] = H[j][j] = np.cos(phi)\n",
    "    H[j][i] = H[i][j] = np.sin(phi)\n",
    "    H[i][j] *= -1\n",
    "    v = v.dot(H)\n",
    "    A = (H.T.dot(A)).dot(H)\n",
    "    k += 1\n",
    "print(k)"
   ]
  },
  {
   "cell_type": "code",
   "execution_count": 9,
   "metadata": {},
   "outputs": [
    {
     "data": {
      "text/plain": [
       "array([[ 6.89510652e+00,  0.00000000e+00, -4.61723423e-06],\n",
       "       [-4.51028104e-17,  3.39729482e+00, -6.54397066e-04],\n",
       "       [-4.61723423e-06, -6.54397066e-04,  1.70759867e+00]])"
      ]
     },
     "execution_count": 9,
     "metadata": {},
     "output_type": "execute_result"
    }
   ],
   "source": [
    "A"
   ]
  },
  {
   "cell_type": "code",
   "execution_count": 10,
   "metadata": {},
   "outputs": [
    {
     "data": {
      "text/plain": [
       "array([[ 0.75257541, -0.45812708, -0.47302201],\n",
       "       [ 0.43170398,  0.8856695 , -0.17094212],\n",
       "       [ 0.49725438, -0.07555865,  0.86430837]])"
      ]
     },
     "execution_count": 10,
     "metadata": {},
     "output_type": "execute_result"
    }
   ],
   "source": [
    "v"
   ]
  },
  {
   "cell_type": "code",
   "execution_count": 11,
   "metadata": {},
   "outputs": [
    {
     "name": "stdout",
     "output_type": "stream",
     "text": [
      "[0.75257541 0.43170398 0.49725438]\n",
      "[-0.45812708  0.8856695  -0.07555865]\n",
      "[-0.47302201 -0.17094212  0.86430837]\n"
     ]
    }
   ],
   "source": [
    "for i in range(v.shape[0]):\n",
    "    print(v[:,  i])"
   ]
  },
  {
   "cell_type": "code",
   "execution_count": 12,
   "metadata": {},
   "outputs": [
    {
     "name": "stdout",
     "output_type": "stream",
     "text": [
      "6.895106515923419\n",
      "3.3972948158577623\n",
      "1.7075986682188165\n"
     ]
    }
   ],
   "source": [
    "for i in range(A.shape[0]):\n",
    "    print(A[i][i])"
   ]
  },
  {
   "cell_type": "code",
   "execution_count": null,
   "metadata": {},
   "outputs": [],
   "source": []
  },
  {
   "cell_type": "code",
   "execution_count": null,
   "metadata": {},
   "outputs": [],
   "source": []
  }
 ],
 "metadata": {
  "kernelspec": {
   "display_name": "Python 3",
   "language": "python",
   "name": "python3"
  },
  "language_info": {
   "codemirror_mode": {
    "name": "ipython",
    "version": 3
   },
   "file_extension": ".py",
   "mimetype": "text/x-python",
   "name": "python",
   "nbconvert_exporter": "python",
   "pygments_lexer": "ipython3",
   "version": "3.8.3"
  }
 },
 "nbformat": 4,
 "nbformat_minor": 4
}

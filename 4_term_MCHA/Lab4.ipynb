{
 "cells": [
  {
   "cell_type": "code",
   "execution_count": 13,
   "metadata": {},
   "outputs": [],
   "source": [
    "import numpy as np\n",
    "import matplotlib.pyplot as plt\n",
    "import sympy"
   ]
  },
  {
   "cell_type": "code",
   "execution_count": 14,
   "metadata": {},
   "outputs": [
    {
     "data": {
      "image/png": "[encoded data removed]",
      "text/plain": [
       "<Figure size 432x288 with 1 Axes>"
      ]
     },
     "metadata": {
      "needs_background": "light"
     },
     "output_type": "display_data"
    }
   ],
   "source": [
    "(x, y) = sympy.symbols(\"x y\")\n",
    "eq1 = 2 * x**2 -x * y - 5*x + 1 \n",
    "eq2 = x + 3*sympy.log(x)/sympy.log(10)-y**2\n",
    "plots = sympy.plot_implicit(sympy.Eq(eq1, 0), (x, 0, 5), (y, -5, 5), line_color = \"blue\", show = False)\n",
    "plots.extend(sympy.plot_implicit(sympy.Eq(eq2, 0), (x, 0, 5), (y, -5, 5), line_color = \"red\", show = False))\n",
    "plots.show()"
   ]
  },
  {
   "cell_type": "code",
   "execution_count": 15,
   "metadata": {},
   "outputs": [],
   "source": [
    "x = [3.5, 2.2]"
   ]
  },
  {
   "cell_type": "code",
   "execution_count": 16,
   "metadata": {},
   "outputs": [],
   "source": [
    "EPS = 0.0001"
   ]
  },
  {
   "cell_type": "code",
   "execution_count": 17,
   "metadata": {},
   "outputs": [],
   "source": [
    "def getX1(x1, x2):\n",
    "    return np.sqrt((x1*(x2+5)-1)/2)"
   ]
  },
  {
   "cell_type": "code",
   "execution_count": 18,
   "metadata": {},
   "outputs": [],
   "source": [
    "def getX2(x1, x2):\n",
    "    return np.sqrt(x1+3*np.log(x1)/np.log(10))"
   ]
  },
  {
   "cell_type": "code",
   "execution_count": 19,
   "metadata": {},
   "outputs": [],
   "source": [
    "def Prost(X):\n",
    "    X = np.asarray(X)\n",
    "    delta = 1\n",
    "    while delta>EPS:\n",
    "        newX = X.copy()\n",
    "        newX[0]=getX1(*X)\n",
    "        print(newX[0], newX[1])\n",
    "        newX[1]=getX2(*X)\n",
    "        print(newX[0], newX[1])\n",
    "        dif = X - newX\n",
    "        #delta = np.sqrt(dif.dot(dif))\n",
    "        delta = np.max(np.abs(dif))\n",
    "        X = newX"
   ]
  },
  {
   "cell_type": "code",
   "execution_count": 20,
   "metadata": {},
   "outputs": [
    {
     "name": "stdout",
     "output_type": "stream",
     "text": [
      "3.478505426185217 2.2\n",
      "3.478505426185217 2.2654368525851316\n",
      "3.4837380437773606 2.2654368525851316\n",
      "3.4837380437773606 2.258912012819422\n",
      "3.4848348551611106 2.258912012819422\n",
      "3.4848348551611106 2.260503155813001\n",
      "3.4858036708472544 2.260503155813001\n",
      "3.4858036708472544 2.2608364515892805\n",
      "3.48639142641582 2.2608364515892805\n",
      "3.48639142641582 2.2611307878121307\n",
      "3.486771008018175 2.2611307878121307\n",
      "3.486771008018175 2.2613093245133986\n",
      "3.4870132515496235 2.2613093245133986\n",
      "3.4870132515496235 2.261424614423885\n",
      "3.4871681817503943 2.261424614423885\n",
      "3.4871681817503943 2.2614981859333994\n",
      "3.48726722705797 2.2614981859333994\n",
      "3.48726722705797 2.2615452376260605\n"
     ]
    }
   ],
   "source": [
    "Prost(x)"
   ]
  },
  {
   "cell_type": "code",
   "execution_count": 21,
   "metadata": {},
   "outputs": [],
   "source": [
    "def W(x, y):\n",
    "    return np.array([\n",
    "        [4*x-y-5, -x],\n",
    "        [1+3/np.log(10)/x, -2*y]\n",
    "    ])"
   ]
  },
  {
   "cell_type": "code",
   "execution_count": 22,
   "metadata": {},
   "outputs": [],
   "source": [
    "def eq1(x,y):\n",
    "    return 2*x**2-x*y-5*x+1\n",
    "\n",
    "def eq2(x,y):\n",
    "    return x+3/np.log(10)*np.log(x)-y**2"
   ]
  },
  {
   "cell_type": "code",
   "execution_count": 23,
   "metadata": {},
   "outputs": [],
   "source": [
    "def Newton(X):\n",
    "    X = np.asarray(X)\n",
    "    delta = 1\n",
    "    while delta>EPS:\n",
    "        w = W(*X)\n",
    "        f = np.array([[eq1(*X)], [eq2(*X)]])\n",
    "        del_x = np.linalg.solve(w, -f)\n",
    "        newX = X.copy()\n",
    "        newX[0] += del_x[0][0]\n",
    "        newX[1] += del_x[1][0]\n",
    "        dif = X - newX\n",
    "        #delta = np.sqrt(dif.dot(dif))\n",
    "        delta = np.max(np.abs(dif))\n",
    "        X = newX\n",
    "        print(*X)"
   ]
  },
  {
   "cell_type": "code",
   "execution_count": 24,
   "metadata": {},
   "outputs": [
    {
     "name": "stdout",
     "output_type": "stream",
     "text": [
      "3.4881640261660003 2.262718679408229\n",
      "3.4874429992326275 2.2616289634900273\n",
      "3.4874427876429723 2.261628630553625\n"
     ]
    }
   ],
   "source": [
    "Newton([3.5, 2.2])"
   ]
  },
  {
   "cell_type": "code",
   "execution_count": 26,
   "metadata": {},
   "outputs": [],
   "source": [
    "a = 0.6\n",
    "m = 0.1"
   ]
  },
  {
   "cell_type": "code",
   "execution_count": 27,
   "metadata": {},
   "outputs": [],
   "source": [
    "def eq1(x, y):\n",
    "    return np.tan(x*y+m)-x"
   ]
  },
  {
   "cell_type": "code",
   "execution_count": 28,
   "metadata": {},
   "outputs": [],
   "source": [
    "def eq2(x, y):\n",
    "    return a*x**2 + 2*y**2-1"
   ]
  },
  {
   "cell_type": "code",
   "execution_count": 29,
   "metadata": {},
   "outputs": [],
   "source": [
    "def eqx(x, y):\n",
    "    return np.tan(x*y+m)\n",
    "    \n",
    "def eqy(x, y):\n",
    "    return np.sqrt((1-a*x**2)/2)"
   ]
  },
  {
   "cell_type": "code",
   "execution_count": 17,
   "metadata": {},
   "outputs": [],
   "source": [
    "(x, y) = sympy.symbols(\"x y\")\n",
    "eq1 = sympy.tan(x * y + m) - x\n",
    "eq2 = a * (x ** 2) + 2 * (y ** 2) - 1\n",
    "plots = sympy.plot_implicit(sympy.Eq(eq1, 0), (x, -2, 2), (y, -2, 2), line_color = \"blue\", show = False)\n",
    "plots.extend(sympy.plot_implicit(sympy.Eq(eq2, 0), (x, -2, 2), (y, -2, 2), line_color = \"red\", show = False))"
   ]
  },
  {
   "cell_type": "code",
   "execution_count": 18,
   "metadata": {},
   "outputs": [
    {
     "data": {
      "image/png": "[encoded data removed]",
      "text/plain": [
       "<Figure size 432x288 with 1 Axes>"
      ]
     },
     "metadata": {
      "needs_background": "light"
     },
     "output_type": "display_data"
    }
   ],
   "source": [
    "plots.show()"
   ]
  },
  {
   "cell_type": "code",
   "execution_count": 19,
   "metadata": {},
   "outputs": [],
   "source": [
    "def Prost(X):\n",
    "    X = np.asarray(X)\n",
    "    delta = 1\n",
    "    while delta>EPS:\n",
    "        newX = X.copy()\n",
    "        newX[0]=eqx(*newX)\n",
    "        print(newX[0], newX[1])\n",
    "        newX[1]=eqy(*newX)\n",
    "        print(newX[0], newX[1])\n",
    "        dif = X - newX\n",
    "        #delta = np.sqrt(dif.dot(dif))\n",
    "        delta = np.max(np.abs(dif))\n",
    "        X = newX"
   ]
  },
  {
   "cell_type": "code",
   "execution_count": 20,
   "metadata": {},
   "outputs": [
    {
     "name": "stdout",
     "output_type": "stream",
     "text": [
      "0.3537368780391225 0.6\n",
      "0.3537368780391225 0.6800449002341982\n",
      "0.35436365379840035 0.6800449002341982\n",
      "0.35436365379840035 0.679946998125585\n"
     ]
    }
   ],
   "source": [
    "Prost([0.4, 0.6])"
   ]
  },
  {
   "cell_type": "code",
   "execution_count": 30,
   "metadata": {},
   "outputs": [],
   "source": [
    "def W(x, y):\n",
    "    return np.array([\n",
    "        [y/(np.cos(x*y+m))**2-1, x/(np.cos(x*y+m))**2],\n",
    "        [2*a*x, 4*y]\n",
    "    ])"
   ]
  },
  {
   "cell_type": "code",
   "execution_count": 31,
   "metadata": {},
   "outputs": [],
   "source": [
    "def Newton(X):\n",
    "    X = np.asarray(X)\n",
    "    delta = 1\n",
    "    while delta>EPS:\n",
    "        w = W(*X)\n",
    "        f = np.array([[eq1(*X)], [eq2(*X)]])\n",
    "        del_x = np.linalg.solve(w, -f)\n",
    "        newX = X.copy()\n",
    "        newX[0] += del_x[0][0]\n",
    "        newX[1] += del_x[1][0]\n",
    "        dif = X - newX\n",
    "        #delta = np.sqrt(dif.dot(dif))\n",
    "        delta = np.max(np.abs(dif))\n",
    "        X = newX\n",
    "        print(*X)"
   ]
  },
  {
   "cell_type": "code",
   "execution_count": 32,
   "metadata": {},
   "outputs": [
    {
     "name": "stdout",
     "output_type": "stream",
     "text": [
      "0.37166010941406835 0.682334644783853\n",
      "0.35558037878756943 0.6798181216151504\n",
      "0.35584780079681766 0.6797144510765976\n"
     ]
    }
   ],
   "source": [
    "Newton([0.4, 0.6])"
   ]
  },
  {
   "cell_type": "code",
   "execution_count": null,
   "metadata": {},
   "outputs": [],
   "source": []
  }
 ],
 "metadata": {
  "kernelspec": {
   "display_name": "Python 3",
   "language": "python",
   "name": "python3"
  },
  "language_info": {
   "codemirror_mode": {
    "name": "ipython",
    "version": 3
   },
   "file_extension": ".py",
   "mimetype": "text/x-python",
   "name": "python",
   "nbconvert_exporter": "python",
   "pygments_lexer": "ipython3",
   "version": "3.8.3"
  }
 },
 "nbformat": 4,
 "nbformat_minor": 4
}

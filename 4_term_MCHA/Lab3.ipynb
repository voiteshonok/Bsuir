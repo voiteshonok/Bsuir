{
 "cells": [
  {
   "cell_type": "code",
   "execution_count": 1,
   "metadata": {},
   "outputs": [],
   "source": [
    "import numpy as np\n",
    "import matplotlib.pyplot as plt"
   ]
  },
  {
   "cell_type": "code",
   "execution_count": 2,
   "metadata": {},
   "outputs": [],
   "source": [
    "def get_f_from_polinom(polinom):\n",
    "    def f(x):\n",
    "        val = polinom[0]\n",
    "        for i in range(len(polinom)-1):\n",
    "            val = val*x+polinom[i+1]\n",
    "        return val\n",
    "    return f"
   ]
  },
  {
   "cell_type": "code",
   "execution_count": 23,
   "metadata": {},
   "outputs": [],
   "source": [
    "a=-19.7997\n",
    "b=28.9378\n",
    "c=562.833\n",
    "\n",
    "#P = [1, a, b, c]\n",
    "P = [1, -1, 0, 0]\n",
    "phi = get_f_from_polinom(P)\n",
    "\n",
    "#def phi(x):\n",
    " #   return x**3 + a * x**2 + b * x + c\n",
    "\n",
    "\n",
    "def mod(x, y):\n",
    "    return x - np.floor(x/y) * y"
   ]
  },
  {
   "cell_type": "code",
   "execution_count": 24,
   "metadata": {},
   "outputs": [
    {
     "data": {
      "image/png": "[encoded data removed]",
      "text/plain": [
       "<Figure size 432x288 with 1 Axes>"
      ]
     },
     "metadata": {
      "needs_background": "light"
     },
     "output_type": "display_data"
    }
   ],
   "source": [
    "x = np.linspace(-10, 10, 1000)\n",
    "plt.grid(True)\n",
    "plt.plot(x, phi(x))\n",
    "plt.show()"
   ]
  },
  {
   "cell_type": "code",
   "execution_count": 25,
   "metadata": {},
   "outputs": [],
   "source": [
    "def get_neg_mod(P, P0):\n",
    "    P = P.copy()\n",
    "    P0 = P0.copy()\n",
    "    while len(P) >= len(P0):\n",
    "        P1 = P0.copy()\n",
    "        dif = len(P) - len(P1)\n",
    "        for _ in range(dif):\n",
    "            P1.append(0)\n",
    "        mod = []\n",
    "        x = P[0] / P1[0]\n",
    "        for i in range(len(P)):\n",
    "            if np.isclose(P[i] - P1[i] * x, 0) and len(mod) == 0:\n",
    "                continue\n",
    "            mod.append(P[i] - P1[i] * x)\n",
    "        P = mod\n",
    "        print(P)\n",
    "    P = [-x for x in P]\n",
    "    return P"
   ]
  },
  {
   "cell_type": "code",
   "execution_count": 26,
   "metadata": {},
   "outputs": [],
   "source": [
    "def shturm(polinom):\n",
    "    P0 = np.polyder(polinom).tolist()\n",
    "    f_k = [polinom, P0]\n",
    "    while len(f_k[-1])>=2:\n",
    "        f_k.append(get_neg_mod(f_k[-2], f_k[-1]))\n",
    "    print(f_k)\n",
    "    return f_k"
   ]
  },
  {
   "cell_type": "code",
   "execution_count": 27,
   "metadata": {},
   "outputs": [
    {
     "name": "stdout",
     "output_type": "stream",
     "text": [
      "[-0.33333333333333337, 0.0, 0.0]\n",
      "[-0.22222222222222224, 0.0]\n",
      "[-2.0, 0.0]\n",
      "[]\n",
      "[[1, -1, 0, 0], [3, -2, 0], [0.22222222222222224, -0.0], []]\n"
     ]
    },
    {
     "data": {
      "text/plain": [
       "[[1, -1, 0, 0], [3, -2, 0], [0.22222222222222224, -0.0], []]"
      ]
     },
     "execution_count": 27,
     "metadata": {},
     "output_type": "execute_result"
    }
   ],
   "source": [
    "f_k = shturm(P)\n",
    "f_k"
   ]
  },
  {
   "cell_type": "code",
   "execution_count": 28,
   "metadata": {},
   "outputs": [],
   "source": [
    "def N(x):\n",
    "    l = []\n",
    "    for i in f_k:\n",
    "        s = 0\n",
    "        for j in i:\n",
    "            s *= x\n",
    "            s += j\n",
    "        l.append(s)\n",
    "    count = 0\n",
    "    for i in range(len(l) - 1):\n",
    "        if l[i] * l[i + 1] < 0:\n",
    "            count += 1\n",
    "    print(l)\n",
    "    return count"
   ]
  },
  {
   "cell_type": "code",
   "execution_count": 29,
   "metadata": {},
   "outputs": [
    {
     "name": "stdout",
     "output_type": "stream",
     "text": [
      "[-1100, 320, -2.2222222222222223, 0]\n"
     ]
    },
    {
     "data": {
      "text/plain": [
       "2"
      ]
     },
     "execution_count": 29,
     "metadata": {},
     "output_type": "execute_result"
    }
   ],
   "source": [
    "N(-10)"
   ]
  },
  {
   "cell_type": "code",
   "execution_count": 30,
   "metadata": {},
   "outputs": [
    {
     "name": "stdout",
     "output_type": "stream",
     "text": [
      "[900, 280, 2.2222222222222223, 0]\n"
     ]
    },
    {
     "data": {
      "text/plain": [
       "0"
      ]
     },
     "execution_count": 30,
     "metadata": {},
     "output_type": "execute_result"
    }
   ],
   "source": [
    "N(10)"
   ]
  },
  {
   "cell_type": "code",
   "execution_count": 31,
   "metadata": {},
   "outputs": [
    {
     "name": "stdout",
     "output_type": "stream",
     "text": [
      "[-1100, 320, -2.2222222222222223, 0]\n",
      "[900, 280, 2.2222222222222223, 0]\n"
     ]
    },
    {
     "data": {
      "text/plain": [
       "2"
      ]
     },
     "execution_count": 31,
     "metadata": {},
     "output_type": "execute_result"
    }
   ],
   "source": [
    "N(-10) - N(10)"
   ]
  },
  {
   "cell_type": "code",
   "execution_count": 32,
   "metadata": {},
   "outputs": [],
   "source": [
    "EPS = 1e-4"
   ]
  },
  {
   "cell_type": "code",
   "execution_count": 33,
   "metadata": {},
   "outputs": [],
   "source": [
    "def get_bounds(a, b):\n",
    "    if N(a) - N(b) == 0:\n",
    "        return []\n",
    "    if N(a) - N(b) == 1:\n",
    "        return [(a, b)]\n",
    "    m = a + (b - a) / (1.5 + np.random.random())\n",
    "    return get_bounds(a, m) + get_bounds(m, b)"
   ]
  },
  {
   "cell_type": "code",
   "execution_count": 34,
   "metadata": {},
   "outputs": [
    {
     "name": "stdout",
     "output_type": "stream",
     "text": [
      "[-1100, 320, -2.2222222222222223, 0]\n",
      "[900, 280, 2.2222222222222223, 0]\n",
      "[-1100, 320, -2.2222222222222223, 0]\n",
      "[900, 280, 2.2222222222222223, 0]\n",
      "[-1100, 320, -2.2222222222222223, 0]\n",
      "[-3.4169580856386483, 7.056462381490069, -0.2746991012362171, 0]\n",
      "[-3.4169580856386483, 7.056462381490069, -0.2746991012362171, 0]\n",
      "[900, 280, 2.2222222222222223, 0]\n",
      "[-3.4169580856386483, 7.056462381490069, -0.2746991012362171, 0]\n",
      "[900, 280, 2.2222222222222223, 0]\n",
      "[-3.4169580856386483, 7.056462381490069, -0.2746991012362171, 0]\n",
      "[121.24938906534852, 73.8569203708453, 1.1791707866299055, 0]\n",
      "[-3.4169580856386483, 7.056462381490069, -0.2746991012362171, 0]\n",
      "[121.24938906534852, 73.8569203708453, 1.1791707866299055, 0]\n",
      "[-3.4169580856386483, 7.056462381490069, -0.2746991012362171, 0]\n",
      "[1.8521288712045618, 5.0004432205283855, 0.3703826817959381, 0]\n",
      "[-3.4169580856386483, 7.056462381490069, -0.2746991012362171, 0]\n",
      "[1.8521288712045618, 5.0004432205283855, 0.3703826817959381, 0]\n",
      "[-3.4169580856386483, 7.056462381490069, -0.2746991012362171, 0]\n",
      "[-0.04167905000718959, -0.3032111590001972, 0.05180664807492106, 0]\n",
      "[-3.4169580856386483, 7.056462381490069, -0.2746991012362171, 0]\n",
      "[-0.04167905000718959, -0.3032111590001972, 0.05180664807492106, 0]\n",
      "[-0.04167905000718959, -0.3032111590001972, 0.05180664807492106, 0]\n",
      "[1.8521288712045618, 5.0004432205283855, 0.3703826817959381, 0]\n",
      "[-0.04167905000718959, -0.3032111590001972, 0.05180664807492106, 0]\n",
      "[1.8521288712045618, 5.0004432205283855, 0.3703826817959381, 0]\n",
      "[1.8521288712045618, 5.0004432205283855, 0.3703826817959381, 0]\n",
      "[121.24938906534852, 73.8569203708453, 1.1791707866299055, 0]\n",
      "[121.24938906534852, 73.8569203708453, 1.1791707866299055, 0]\n",
      "[900, 280, 2.2222222222222223, 0]\n"
     ]
    },
    {
     "data": {
      "text/plain": [
       "[(-1.2361459555629768, 0.23312991633714475),\n",
       " (0.23312991633714475, 1.6667220680817212)]"
      ]
     },
     "execution_count": 34,
     "metadata": {},
     "output_type": "execute_result"
    }
   ],
   "source": [
    "bounds = get_bounds(-10, 10)\n",
    "bounds"
   ]
  },
  {
   "cell_type": "code",
   "execution_count": 35,
   "metadata": {},
   "outputs": [],
   "source": [
    "l0=l=bounds[0][0]\n",
    "r0=r=bounds[0][1]"
   ]
  },
  {
   "cell_type": "code",
   "execution_count": 36,
   "metadata": {},
   "outputs": [],
   "source": [
    "def dihotomia(l, r):\n",
    "    iters=0\n",
    "    while(abs(l-r)>EPS):\n",
    "        m=(r+l)/2\n",
    "        if phi(l)*phi(m)<0:\n",
    "            r = m\n",
    "        else:\n",
    "            l = m\n",
    "        iters += 1\n",
    "    print(f\"dihotomia = {iters} iters\")"
   ]
  },
  {
   "cell_type": "code",
   "execution_count": 37,
   "metadata": {},
   "outputs": [
    {
     "name": "stdout",
     "output_type": "stream",
     "text": [
      "dihotomia = 14 iters\n"
     ]
    }
   ],
   "source": [
    "dihotomia(l0, r0)"
   ]
  },
  {
   "cell_type": "code",
   "execution_count": 38,
   "metadata": {},
   "outputs": [
    {
     "name": "stdout",
     "output_type": "stream",
     "text": [
      "l = -1.2361459555629768, r = 0.23312991633714475, невязка = 3.3752790356314586\n"
     ]
    }
   ],
   "source": [
    "print(f\"l = {l}, r = {r}, невязка = {abs(phi(r)-phi(l))}\")"
   ]
  },
  {
   "cell_type": "code",
   "execution_count": 43,
   "metadata": {},
   "outputs": [],
   "source": [
    "def hord(polinom, l, r):\n",
    "    P0 = np.polyder(polinom).tolist()\n",
    "    P00 = np.polyder(P0).tolist()\n",
    "    der_der_phi = get_f_from_polinom(P00)\n",
    "    iters=0\n",
    "    if phi(r)*der_der_phi(r)>0:\n",
    "        def get_next(xn_1):\n",
    "            return xn_1-phi(xn_1)*(r-xn_1)/(phi(r)-phi(xn_1))\n",
    "        x0 = l\n",
    "        while abs(get_next(x0)-x0)>1e-4:\n",
    "            x0 = get_next(x0)\n",
    "            iters+=1\n",
    "    else:\n",
    "        def get_next(xn_1):\n",
    "            return xn_1-phi(xn_1)*(l-xn_1)/(phi(l)-phi(xn_1))\n",
    "        x0 = b\n",
    "        while abs(get_next(x0)-x0)>1e-4:\n",
    "            x0 = get_next(x0)\n",
    "            iters+=1\n",
    "    print(f\"hord = {iters} iters, x0 = {x0}\")"
   ]
  },
  {
   "cell_type": "code",
   "execution_count": 46,
   "metadata": {},
   "outputs": [
    {
     "name": "stdout",
     "output_type": "stream",
     "text": [
      "hord = 26 iters, x0 = 0.9998059573941019\n"
     ]
    }
   ],
   "source": [
    "hord(P, bounds[1][0], bounds[1][1])"
   ]
  },
  {
   "cell_type": "code",
   "execution_count": 41,
   "metadata": {},
   "outputs": [],
   "source": [
    "def newton(polinom, l, r):\n",
    "    P0 = np.polyder(polinom).tolist()\n",
    "    der_phi = get_f_from_polinom(P0)\n",
    "    iters=0\n",
    "    P00 = np.polyder(P0).tolist()\n",
    "    der_der_phi = get_f_from_polinom(P00)\n",
    "    if phi(r)*der_der_phi(r)>0:\n",
    "        x0=r\n",
    "    else:\n",
    "        x0=l\n",
    "    def get_next(xn_1):\n",
    "        return xn_1 - phi(xn_1)/der_phi(xn_1)\n",
    "    while(abs(x0-get_next(x0))>1e-4):\n",
    "        x0 = get_next(x0)\n",
    "        iters += 1\n",
    "    print(f\"newton = {iters} iters\")\n",
    "    print(x0)"
   ]
  },
  {
   "cell_type": "code",
   "execution_count": 42,
   "metadata": {},
   "outputs": [
    {
     "name": "stdout",
     "output_type": "stream",
     "text": [
      "newton = 10 iters\n",
      "0.00016835445233541498\n"
     ]
    }
   ],
   "source": [
    "newton(P, l0, r0)"
   ]
  },
  {
   "cell_type": "code",
   "execution_count": null,
   "metadata": {},
   "outputs": [],
   "source": []
  },
  {
   "cell_type": "code",
   "execution_count": null,
   "metadata": {},
   "outputs": [],
   "source": []
  },
  {
   "cell_type": "code",
   "execution_count": null,
   "metadata": {},
   "outputs": [],
   "source": []
  }
 ],
 "metadata": {
  "kernelspec": {
   "display_name": "Python 3",
   "language": "python",
   "name": "python3"
  },
  "language_info": {
   "codemirror_mode": {
    "name": "ipython",
    "version": 3
   },
   "file_extension": ".py",
   "mimetype": "text/x-python",
   "name": "python",
   "nbconvert_exporter": "python",
   "pygments_lexer": "ipython3",
   "version": "3.8.3"
  }
 },
 "nbformat": 4,
 "nbformat_minor": 4
}

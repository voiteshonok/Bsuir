{
 "cells": [
  {
   "cell_type": "code",
   "execution_count": 2,
   "metadata": {},
   "outputs": [],
   "source": [
    "import numpy as np\n",
    "import matplotlib.pyplot as plt"
   ]
  },
  {
   "cell_type": "code",
   "execution_count": 9,
   "metadata": {},
   "outputs": [],
   "source": [
    "ff = lambda x: np.cosh(x)\n",
    "f = lambda x: np.sinh(x)\n",
    "F = lambda x: ff(x)"
   ]
  },
  {
   "cell_type": "markdown",
   "metadata": {},
   "source": [
    "## y'(1) = 1.1752011 y'= sinh()"
   ]
  },
  {
   "cell_type": "code",
   "execution_count": 5,
   "metadata": {},
   "outputs": [],
   "source": [
    "error = np.Inf\n",
    "EPS = 0.01\n",
    "n = 3\n",
    "while(error > EPS):\n",
    "    n += 2\n",
    "    X = np.linspace(0, 2, n)\n",
    "    Y = f(X)\n",
    "    i = int(len(X)/2)\n",
    "    derivative = (Y[i+1] - Y[i-1])/(X[i+1] - X[i-1])\n",
    "    error = abs(ff(1) - derivative)"
   ]
  },
  {
   "cell_type": "code",
   "execution_count": 6,
   "metadata": {},
   "outputs": [
    {
     "data": {
      "text/plain": [
       "13"
      ]
     },
     "execution_count": 6,
     "metadata": {},
     "output_type": "execute_result"
    }
   ],
   "source": [
    "n"
   ]
  },
  {
   "cell_type": "code",
   "execution_count": 49,
   "metadata": {},
   "outputs": [
    {
     "data": {
      "text/plain": [
       "0.258529117271772"
      ]
     },
     "execution_count": 49,
     "metadata": {},
     "output_type": "execute_result"
    }
   ],
   "source": [
    "derivative"
   ]
  },
  {
   "cell_type": "markdown",
   "metadata": {},
   "source": [
    "## y''(1) = 1.5430806348152437 y'' = cosh(x)"
   ]
  },
  {
   "cell_type": "code",
   "execution_count": 50,
   "metadata": {},
   "outputs": [
    {
     "ename": "KeyboardInterrupt",
     "evalue": "",
     "output_type": "error",
     "traceback": [
      "\u001b[1;31m---------------------------------------------------------------------------\u001b[0m",
      "\u001b[1;31mKeyboardInterrupt\u001b[0m                         Traceback (most recent call last)",
      "\u001b[1;32m<ipython-input-50-55c87e460e07>\u001b[0m in \u001b[0;36m<module>\u001b[1;34m\u001b[0m\n\u001b[0;32m      4\u001b[0m \u001b[1;32mwhile\u001b[0m\u001b[1;33m(\u001b[0m\u001b[0merror\u001b[0m \u001b[1;33m>\u001b[0m \u001b[0mEPS\u001b[0m\u001b[1;33m)\u001b[0m\u001b[1;33m:\u001b[0m\u001b[1;33m\u001b[0m\u001b[1;33m\u001b[0m\u001b[0m\n\u001b[0;32m      5\u001b[0m     \u001b[0mn\u001b[0m \u001b[1;33m+=\u001b[0m \u001b[1;36m2\u001b[0m\u001b[1;33m\u001b[0m\u001b[1;33m\u001b[0m\u001b[0m\n\u001b[1;32m----> 6\u001b[1;33m     \u001b[0mX\u001b[0m \u001b[1;33m=\u001b[0m \u001b[0mnp\u001b[0m\u001b[1;33m.\u001b[0m\u001b[0mlinspace\u001b[0m\u001b[1;33m(\u001b[0m\u001b[1;36m0\u001b[0m\u001b[1;33m,\u001b[0m \u001b[1;36m2\u001b[0m\u001b[1;33m,\u001b[0m \u001b[0mn\u001b[0m\u001b[1;33m)\u001b[0m\u001b[1;33m\u001b[0m\u001b[1;33m\u001b[0m\u001b[0m\n\u001b[0m\u001b[0;32m      7\u001b[0m     \u001b[0mY\u001b[0m \u001b[1;33m=\u001b[0m \u001b[0mf\u001b[0m\u001b[1;33m(\u001b[0m\u001b[0mX\u001b[0m\u001b[1;33m)\u001b[0m\u001b[1;33m\u001b[0m\u001b[1;33m\u001b[0m\u001b[0m\n\u001b[0;32m      8\u001b[0m     \u001b[0mi\u001b[0m \u001b[1;33m=\u001b[0m \u001b[0mint\u001b[0m\u001b[1;33m(\u001b[0m\u001b[0mlen\u001b[0m\u001b[1;33m(\u001b[0m\u001b[0mX\u001b[0m\u001b[1;33m)\u001b[0m\u001b[1;33m/\u001b[0m\u001b[1;36m2\u001b[0m\u001b[1;33m)\u001b[0m\u001b[1;33m\u001b[0m\u001b[1;33m\u001b[0m\u001b[0m\n",
      "\u001b[1;32m<__array_function__ internals>\u001b[0m in \u001b[0;36mlinspace\u001b[1;34m(*args, **kwargs)\u001b[0m\n",
      "\u001b[1;32mD:\\Anaconda\\lib\\site-packages\\numpy\\core\\function_base.py\u001b[0m in \u001b[0;36mlinspace\u001b[1;34m(start, stop, num, endpoint, retstep, dtype, axis)\u001b[0m\n\u001b[0;32m    151\u001b[0m         \u001b[1;32melse\u001b[0m\u001b[1;33m:\u001b[0m\u001b[1;33m\u001b[0m\u001b[1;33m\u001b[0m\u001b[0m\n\u001b[0;32m    152\u001b[0m             \u001b[1;32mif\u001b[0m \u001b[0m_mult_inplace\u001b[0m\u001b[1;33m:\u001b[0m\u001b[1;33m\u001b[0m\u001b[1;33m\u001b[0m\u001b[0m\n\u001b[1;32m--> 153\u001b[1;33m                 \u001b[0my\u001b[0m \u001b[1;33m*=\u001b[0m \u001b[0mstep\u001b[0m\u001b[1;33m\u001b[0m\u001b[1;33m\u001b[0m\u001b[0m\n\u001b[0m\u001b[0;32m    154\u001b[0m             \u001b[1;32melse\u001b[0m\u001b[1;33m:\u001b[0m\u001b[1;33m\u001b[0m\u001b[1;33m\u001b[0m\u001b[0m\n\u001b[0;32m    155\u001b[0m                 \u001b[0my\u001b[0m \u001b[1;33m=\u001b[0m \u001b[0my\u001b[0m \u001b[1;33m*\u001b[0m \u001b[0mstep\u001b[0m\u001b[1;33m\u001b[0m\u001b[1;33m\u001b[0m\u001b[0m\n",
      "\u001b[1;31mKeyboardInterrupt\u001b[0m: "
     ]
    }
   ],
   "source": [
    "error = np.Inf\n",
    "EPS = 0.01\n",
    "n = 3\n",
    "while(error > EPS):\n",
    "    n += 2\n",
    "    X = np.linspace(0, 2, n)\n",
    "    Y = f(X)\n",
    "    i = int(len(X)/2)\n",
    "    twice_derivative = (Y[i+1] + Y[i-1] - 2 * Y[i])/(X[i] - X[i-1])**2\n",
    "    error = abs(f(1) - twice_derivative)"
   ]
  },
  {
   "cell_type": "code",
   "execution_count": 52,
   "metadata": {},
   "outputs": [
    {
     "data": {
      "text/plain": [
       "1.0353978046345722"
      ]
     },
     "execution_count": 52,
     "metadata": {},
     "output_type": "execute_result"
    }
   ],
   "source": [
    "error"
   ]
  },
  {
   "cell_type": "code",
   "execution_count": null,
   "metadata": {},
   "outputs": [],
   "source": [
    "twice_derivative"
   ]
  },
  {
   "cell_type": "code",
   "execution_count": null,
   "metadata": {},
   "outputs": [],
   "source": [
    "np.cosh(1) - twice_derivative"
   ]
  },
  {
   "cell_type": "markdown",
   "metadata": {},
   "source": [
    "## Integral"
   ]
  },
  {
   "cell_type": "code",
   "execution_count": 10,
   "metadata": {},
   "outputs": [],
   "source": [
    "integral = F(2) - F(0)"
   ]
  },
  {
   "cell_type": "code",
   "execution_count": 11,
   "metadata": {},
   "outputs": [
    {
     "data": {
      "text/plain": [
       "2.7621956910836314"
      ]
     },
     "execution_count": 11,
     "metadata": {},
     "output_type": "execute_result"
    }
   ],
   "source": [
    "integral"
   ]
  },
  {
   "cell_type": "code",
   "execution_count": 24,
   "metadata": {},
   "outputs": [],
   "source": [
    "def search(integrate):\n",
    "    error = np.Inf\n",
    "    EPS = 1e-1\n",
    "    n1, n2 = 1, 2\n",
    "    while(error > EPS):\n",
    "        n1 = n2\n",
    "        n2 *= 2\n",
    "        n = n2\n",
    "        X = np.linspace(0, 2, n)\n",
    "        Y = f(X)\n",
    "    \n",
    "        s = integrate(X, Y)\n",
    "    \n",
    "        error = abs(s - integral)\n",
    "    \n",
    "    while n2 - n1 > 1:\n",
    "        n = (n1 + n2) // 2\n",
    "        X = np.linspace(0, 2, n)\n",
    "        Y = f(X)\n",
    "    \n",
    "        s = integrate(X, Y)\n",
    "        \n",
    "        error = abs(s - integral)\n",
    "        \n",
    "        if error > EPS:\n",
    "            n1 = n\n",
    "        else:\n",
    "            n2 = n\n",
    "    print(f\"n = {n2} s = {s} error = {error}\")\n",
    "    return n2"
   ]
  },
  {
   "cell_type": "markdown",
   "metadata": {},
   "source": [
    "## Integral прямоугольниками"
   ]
  },
  {
   "cell_type": "code",
   "execution_count": 25,
   "metadata": {},
   "outputs": [],
   "source": [
    "def priam(X, Y):\n",
    "    s = 0\n",
    "    for i in range(len(Y)-1):\n",
    "        s += Y[i]\n",
    "    s = s * (X[len(X)-1] - X[0]) / (len(X) - 1)\n",
    "    return s"
   ]
  },
  {
   "cell_type": "code",
   "execution_count": 26,
   "metadata": {},
   "outputs": [
    {
     "name": "stdout",
     "output_type": "stream",
     "text": [
      "n = 38 s = 2.6621599733793593 error = 0.10003571770427211\n"
     ]
    },
    {
     "data": {
      "text/plain": [
       "38"
      ]
     },
     "execution_count": 26,
     "metadata": {},
     "output_type": "execute_result"
    }
   ],
   "source": [
    "search(priam)"
   ]
  },
  {
   "cell_type": "markdown",
   "metadata": {},
   "source": [
    "## трапеции"
   ]
  },
  {
   "cell_type": "code",
   "execution_count": 27,
   "metadata": {},
   "outputs": [],
   "source": [
    "def trapez(X, Y):\n",
    "    s =  sum(Y) - (Y[len(Y)-1] - Y[0]) / 2\n",
    "    \n",
    "    s = s * (X[len(X)-1] - X[0]) / (len(X) - 1)\n",
    "    \n",
    "    return s"
   ]
  },
  {
   "cell_type": "code",
   "execution_count": 28,
   "metadata": {},
   "outputs": [
    {
     "name": "stdout",
     "output_type": "stream",
     "text": [
      "n = 5 s = 2.8195030790779376 error = 0.057307387994306236\n"
     ]
    },
    {
     "data": {
      "text/plain": [
       "5"
      ]
     },
     "execution_count": 28,
     "metadata": {},
     "output_type": "execute_result"
    }
   ],
   "source": [
    "search(trapez)"
   ]
  },
  {
   "cell_type": "markdown",
   "metadata": {},
   "source": [
    "## симпсона"
   ]
  },
  {
   "cell_type": "code",
   "execution_count": 35,
   "metadata": {},
   "outputs": [
    {
     "name": "stdout",
     "output_type": "stream",
     "text": [
      "n = 3 s = 2.7623826650334773 error = 0.00018697394984590332\n"
     ]
    }
   ],
   "source": [
    "error = np.Inf\n",
    "EPS = 1e-1\n",
    "n1, n2 = 1, 2\n",
    "while(error > EPS):\n",
    "    n1 = n2\n",
    "    n2 *= 2\n",
    "    n = n2\n",
    "    N = 2 * n\n",
    "    X = np.linspace(0, 2, N + 1)\n",
    "    Y = f(X)\n",
    "    \n",
    "    s = 0\n",
    "    for i in range(1, n):\n",
    "        s += 2 * Y[2 * i]\n",
    "        \n",
    "    for i in range(0, n):\n",
    "        s += 4 * Y[2 * i + 1]\n",
    "    \n",
    "    s += Y[len(Y)-1] - Y[0]\n",
    "    \n",
    "    s = s * (X[len(X)-1] - X[0]) / (N) / 3\n",
    "    \n",
    "    error = abs(s - integral)\n",
    "    \n",
    "while n2 - n1 > 1:\n",
    "    n = (n1 + n2) // 2\n",
    "    N = 2 * n\n",
    "    X = np.linspace(0, 2, N + 1)\n",
    "    Y = f(X)\n",
    "    \n",
    "    s = 0\n",
    "    for i in range(1, n):\n",
    "        s += 2 * Y[2 * i]\n",
    "        \n",
    "    for i in range(0, n):\n",
    "        s += 4 * Y[2 * i + 1]\n",
    "    \n",
    "    s += Y[len(Y)-1] - Y[0]\n",
    "    \n",
    "    s = s * (X[len(X)-1] - X[0]) / (N) / 3\n",
    "        \n",
    "    error = abs(s - integral)\n",
    "        \n",
    "    if error > EPS:\n",
    "        n1 = n\n",
    "    else:\n",
    "        n2 = n\n",
    "print(f\"n = {n2} s = {s} error = {error}\")"
   ]
  },
  {
   "cell_type": "code",
   "execution_count": null,
   "metadata": {},
   "outputs": [],
   "source": []
  }
 ],
 "metadata": {
  "kernelspec": {
   "display_name": "Python 3",
   "language": "python",
   "name": "python3"
  },
  "language_info": {
   "codemirror_mode": {
    "name": "ipython",
    "version": 3
   },
   "file_extension": ".py",
   "mimetype": "text/x-python",
   "name": "python",
   "nbconvert_exporter": "python",
   "pygments_lexer": "ipython3",
   "version": "3.8.3"
  }
 },
 "nbformat": 4,
 "nbformat_minor": 4
}

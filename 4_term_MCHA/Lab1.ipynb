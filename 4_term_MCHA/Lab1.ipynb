{
 "cells": [
  {
   "cell_type": "markdown",
   "metadata": {},
   "source": [
    "# Войтешонок Вячеслав №3"
   ]
  },
  {
   "cell_type": "code",
   "execution_count": 1,
   "metadata": {},
   "outputs": [],
   "source": [
    "import numpy as np"
   ]
  },
  {
   "cell_type": "code",
   "execution_count": 2,
   "metadata": {},
   "outputs": [],
   "source": [
    "n = 5\n",
    "b = np.ones(n) * 4.2\n",
    "C = np.array([[0.2, 0, 0.2, 0, 0],\n",
    "              [0, 0.2, 0, 0.2, 0],\n",
    "              [0.2, 0, 0.2, 0, 0.2],\n",
    "              [0, 0.2, 0, 0.2, 0],\n",
    "              [0, 0, 0.2, 0, 0.2]])\n",
    "\n",
    "d = np.array([2.33, 0.81, 0.67, 0.92, -0.53])\n",
    "D = []\n",
    "for i in range(n):\n",
    "    j, temp = i, []\n",
    "    for k in range(n):\n",
    "        temp.append(d[(k-j)%n])\n",
    "    D.append(temp)\n",
    "A = np.array(D)\n",
    "A += 3*C"
   ]
  },
  {
   "cell_type": "code",
   "execution_count": 3,
   "metadata": {},
   "outputs": [],
   "source": [
    "def gauss(A, b, n):\n",
    "    #прямой ход\n",
    "    for i in range(n):\n",
    "        if A[i][i]==0:\n",
    "            continue\n",
    "        temp = A[i][i]\n",
    "        for j in range(i, n):\n",
    "            A[i][j] /= temp\n",
    "        b[i] /= temp\n",
    "        for j in range(i+1, n):\n",
    "            b[j] -= b[i]*A[j][i]\n",
    "            A[j] -= A[i]*A[j][i]\n",
    "    print(f\"A: {A}\")\n",
    "    print(f\"b: {b}\")\n",
    "    #обратный ход\n",
    "    X = []\n",
    "    for i in range(n):\n",
    "        for j in range(i):\n",
    "            b[n-1-i] -= X[j]*A[n-1-i][n-j-1]\n",
    "        X.append(b[n-i-1])\n",
    "    X.reverse()\n",
    "    print(f\"X: {X}\")"
   ]
  },
  {
   "cell_type": "code",
   "execution_count": 4,
   "metadata": {},
   "outputs": [
    {
     "name": "stdout",
     "output_type": "stream",
     "text": [
      "A: [[ 1.          0.27645051  0.4334471   0.31399317 -0.18088737]\n",
      " [ 0.          1.          0.33795567  0.46689667  0.26787735]\n",
      " [ 0.          0.          1.          0.29949526  0.69416959]\n",
      " [ 0.          0.          0.          1.          0.58786529]\n",
      " [ 0.          0.          0.          0.          1.        ]]\n",
      "b: [1.4334471  1.61212309 1.37060703 1.14260562 0.79881835]\n",
      "X: [0.8580235922969008, 0.8762290087200716, 0.6145289054773782, 0.673008038473097, 0.7988183544239552]\n"
     ]
    }
   ],
   "source": [
    "gauss(A.copy(), b.copy(), n)"
   ]
  },
  {
   "cell_type": "code",
   "execution_count": 5,
   "metadata": {},
   "outputs": [
    {
     "data": {
      "text/plain": [
       "array([0.85802359, 0.87622901, 0.61452891, 0.67300804, 0.79881835])"
      ]
     },
     "execution_count": 5,
     "metadata": {},
     "output_type": "execute_result"
    }
   ],
   "source": [
    "from scipy import linalg\n",
    "linalg.solve(A, b)"
   ]
  },
  {
   "cell_type": "code",
   "execution_count": 6,
   "metadata": {},
   "outputs": [],
   "source": [
    "def major(A, b, n):\n",
    "    #прямой ход\n",
    "    for i in range(n):\n",
    "        a = A[i:, i]\n",
    "        temp = a.max()\n",
    "        if temp==0:\n",
    "            continue\n",
    "        max_row = np.where(a == temp)[0][0]\n",
    "        #print(f\"a{i}: {a}\\n max = {temp}\\n row = {max_row}\")\n",
    "        A[[i, i+max_row]]=A[[i+max_row, i]]\n",
    "        b[[i, i+max_row]]=b[[i+max_row, i]]\n",
    "        for j in range(i, n):\n",
    "            A[i][j] /= temp\n",
    "        b[i] /= temp\n",
    "        for j in range(i+1, n):\n",
    "            b[j] -= b[i]*A[j][i]\n",
    "            A[j] -= A[i]*A[j][i]\n",
    "        #print(f\"A{i}: {A}\")\n",
    "    print(f\"A: {A}\")\n",
    "    print(f\"b: {b}\")\n",
    "    #обратный ход\n",
    "    X = []\n",
    "    for i in range(n):\n",
    "        for j in range(i):\n",
    "            b[n-1-i] -= X[j]*A[n-1-i][n-j-1]\n",
    "        X.append(b[n-i-1])\n",
    "    X.reverse()\n",
    "    print(f\"X: {X}\")"
   ]
  },
  {
   "cell_type": "code",
   "execution_count": 7,
   "metadata": {},
   "outputs": [
    {
     "name": "stdout",
     "output_type": "stream",
     "text": [
      "A: [[ 1.          0.27645051  0.4334471   0.31399317 -0.18088737]\n",
      " [ 0.          1.          0.33795567  0.46689667  0.26787735]\n",
      " [ 0.          0.          1.          0.29949526  0.69416959]\n",
      " [ 0.          0.          0.          1.          0.58786529]\n",
      " [ 0.          0.          0.          0.          1.        ]]\n",
      "b: [1.4334471  1.61212309 1.37060703 1.14260562 0.79881835]\n",
      "X: [0.8580235922969008, 0.8762290087200716, 0.6145289054773782, 0.673008038473097, 0.7988183544239552]\n"
     ]
    }
   ],
   "source": [
    "major(A.copy(), b.copy(), n)"
   ]
  },
  {
   "cell_type": "code",
   "execution_count": 8,
   "metadata": {},
   "outputs": [],
   "source": [
    "x = [0.8580235922969008, 0.8762290087200716, 0.6145289054773782, 0.673008038473097, 0.7988183544239552]"
   ]
  },
  {
   "cell_type": "code",
   "execution_count": 9,
   "metadata": {},
   "outputs": [
    {
     "data": {
      "text/plain": [
       "array([0.858, 0.876, 0.615, 0.673, 0.799])"
      ]
     },
     "execution_count": 9,
     "metadata": {},
     "output_type": "execute_result"
    }
   ],
   "source": [
    "np.around(x, 3)"
   ]
  },
  {
   "cell_type": "code",
   "execution_count": null,
   "metadata": {},
   "outputs": [],
   "source": []
  }
 ],
 "metadata": {
  "kernelspec": {
   "display_name": "Python 3",
   "language": "python",
   "name": "python3"
  },
  "language_info": {
   "codemirror_mode": {
    "name": "ipython",
    "version": 3
   },
   "file_extension": ".py",
   "mimetype": "text/x-python",
   "name": "python",
   "nbconvert_exporter": "python",
   "pygments_lexer": "ipython3",
   "version": "3.8.3"
  }
 },
 "nbformat": 4,
 "nbformat_minor": 4
}

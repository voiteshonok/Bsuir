{
 "cells": [
  {
   "cell_type": "code",
   "execution_count": 3,
   "metadata": {},
   "outputs": [],
   "source": [
    "import numpy as np"
   ]
  },
  {
   "cell_type": "code",
   "execution_count": 164,
   "metadata": {},
   "outputs": [],
   "source": [
    "C = np.array([[0.01, 0, -0.02, 0, 0],\n",
    "              [0.01, 0.01, -0.02, 0, 0],\n",
    "              [0, 0.01, 0.01, 0, -0.02],\n",
    "              [0, 0, 0.01, 0.01, 0],\n",
    "              [0, 0, 0, 0.01, 0.01]])\n",
    "\n",
    "D = np.array([[1.33, 0.21, 0.17, 0.12, -0.13],\n",
    "              [-0.13, -1.33, 0.11, 0.17, 0.12],\n",
    "              [0.12, -0.13, -1.33, 0.11, 0.17],\n",
    "              [0.17, 0.12, -0.13, -1.33, 0.11],\n",
    "              [0.11, 0.67, 0.12, -0.13, -1.33]])\n",
    "\n",
    "b = np.array([1.22, 2.2, 4.0, 0, 1.2])\n",
    "k = 3\n",
    "A = k * C + D"
   ]
  },
  {
   "cell_type": "code",
   "execution_count": 165,
   "metadata": {},
   "outputs": [],
   "source": [
    "def prime_criteria(A):\n",
    "    first_criteria = []\n",
    "    for i in range(A.shape[0]):\n",
    "        s = 0\n",
    "        for j in range(A.shape[1]):\n",
    "            s += np.abs(A[i][j])\n",
    "        first_criteria.append(s)\n",
    "    \n",
    "    if max(first_criteria) < 1:\n",
    "        return True\n",
    "    \n",
    "    second_criteria = 0\n",
    "    for i in range(A.shape[0]):\n",
    "        for j in range(A.shape[1]):\n",
    "            second_criteria += A[i][j] ** 2\n",
    "            \n",
    "    if second_criteria < 1:\n",
    "        return True\n",
    "    \n",
    "    third_criteria = []\n",
    "    for j in range(A.shape[1]):\n",
    "        s = 0\n",
    "        for i in range(A.shape[0]):\n",
    "            s += np.abs(A[i][j])\n",
    "        third_criteria.append(s)\n",
    "       \n",
    "    return max(third_criteria) < 1  "
   ]
  },
  {
   "cell_type": "code",
   "execution_count": 194,
   "metadata": {},
   "outputs": [],
   "source": [
    "def norm(x):\n",
    "    return np.sqrt(x.dot(x.T))"
   ]
  },
  {
   "cell_type": "code",
   "execution_count": 239,
   "metadata": {},
   "outputs": [],
   "source": [
    "#метод простых итераций\n",
    "def prime_iteration(A, b):\n",
    "    for i in range(5):\n",
    "        b[i]/=A[i][i]\n",
    "        A[i]/=A[i][i]\n",
    "    \n",
    "    B = np.eye(5) - A\n",
    "    \n",
    "    if not prime_criteria(B.copy()):\n",
    "        print(\"criteria is not satisfied\")\n",
    "        return None\n",
    "    \n",
    "    x = np.zeros(5)\n",
    "    e = 1\n",
    "    interation_count = 0\n",
    "    \n",
    "    while e > 1e-4:\n",
    "        x_next = B.dot(x.T) + b\n",
    "        e = norm(x_next - x)\n",
    "        x = x_next\n",
    "        interation_count += 1\n",
    "    \n",
    "    return x, interation_count"
   ]
  },
  {
   "cell_type": "code",
   "execution_count": 237,
   "metadata": {},
   "outputs": [
    {
     "name": "stdout",
     "output_type": "stream",
     "text": [
      "iterations = 9\n",
      "X = [ 1.25348437 -2.1024175  -2.9824248   0.01506659 -2.17698702]\n",
      "невязка [-1.93540503e-05 -4.04266918e-06  8.64296527e-07 -1.04216943e-05\n",
      " -5.09574279e-05]\n"
     ]
    }
   ],
   "source": [
    "x, iters = prime_iteration(A.copy(), b.copy())\n",
    "print(f\"iterations = {iters}\")\n",
    "print(f\"X = {x}\")\n",
    "print(f\"невязка {A.dot(x.T) - b}\")"
   ]
  },
  {
   "cell_type": "code",
   "execution_count": 238,
   "metadata": {},
   "outputs": [],
   "source": [
    "def zeidel_criteria(A):\n",
    "    first_criteria = []\n",
    "    for i in range(A.shape[0]):\n",
    "        s = 0\n",
    "        for j in range(A.shape[1]):\n",
    "            s += np.abs(A[i][j])\n",
    "        first_criteria.append(s)\n",
    "    \n",
    "    if max(first_criteria) < 1:\n",
    "        return True\n",
    "    \n",
    "    second_criteria = []\n",
    "    for j in range(A.shape[1]):\n",
    "        s = 0\n",
    "        for i in range(A.shape[0]):\n",
    "            s += np.abs(A[i][j])\n",
    "        second_criteria.append(s)\n",
    "       \n",
    "    return max(second_criteria) < 1"
   ]
  },
  {
   "cell_type": "code",
   "execution_count": 240,
   "metadata": {},
   "outputs": [],
   "source": [
    "#метод Зейделя\n",
    "def zeidel(A, b):\n",
    "    for i in range(5):\n",
    "        b[i]/=A[i][i]\n",
    "        A[i]/=A[i][i]\n",
    "    \n",
    "    B = np.eye(5) - A\n",
    "    \n",
    "    if not zeidel_criteria(B.copy()):\n",
    "        print(\"criteria is not satisfied\")\n",
    "        return None\n",
    "    \n",
    "    x = b.copy()\n",
    "    e = 1\n",
    "    interation_count = 0\n",
    "    \n",
    "    while e > 1e-4:\n",
    "        x_prev = x.copy()\n",
    "        \n",
    "        for k in range(B.shape[0]):\n",
    "            s = 0\n",
    "            for i in range(k):\n",
    "                s += x[i]*B[k][i]\n",
    "            for i in range(k+1, B.shape[1]):\n",
    "                s += x[i]*B[k][i]\n",
    "            x[k] = s + b[k]\n",
    "        \n",
    "        e = norm(x_prev - x)\n",
    "        interation_count += 1\n",
    "    \n",
    "    return x, interation_count"
   ]
  },
  {
   "cell_type": "code",
   "execution_count": 241,
   "metadata": {},
   "outputs": [
    {
     "name": "stdout",
     "output_type": "stream",
     "text": [
      "iterations = 6\n",
      "X = [ 1.25349424 -2.10242546 -2.98242624  0.0150562  -2.17702882]\n",
      "невязка [-3.57876553e-06 -1.54035176e-06 -1.02382934e-06 -6.36126172e-07\n",
      "  4.44089210e-16]\n"
     ]
    }
   ],
   "source": [
    "x, iters = zeidel(A.copy(), b.copy())\n",
    "print(f\"iterations = {iters}\")\n",
    "print(f\"X = {x}\")\n",
    "print(f\"невязка {A.dot(x.T) - b}\")"
   ]
  }
 ],
 "metadata": {
  "kernelspec": {
   "display_name": "Python 3",
   "language": "python",
   "name": "python3"
  },
  "language_info": {
   "codemirror_mode": {
    "name": "ipython",
    "version": 3
   },
   "file_extension": ".py",
   "mimetype": "text/x-python",
   "name": "python",
   "nbconvert_exporter": "python",
   "pygments_lexer": "ipython3",
   "version": "3.8.3"
  }
 },
 "nbformat": 4,
 "nbformat_minor": 4
}
